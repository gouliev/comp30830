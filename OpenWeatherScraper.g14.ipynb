{
 "cells": [
  {
   "cell_type": "code",
   "execution_count": 3,
   "id": "3366a9f7",
   "metadata": {},
   "outputs": [],
   "source": [
    "import requests\n",
    "import math\n",
    "\n",
    "city_name = \"Dublin,IE\"\n",
    "api_key = \"66e50250e7bb61902cd01ad6cc2c4c4f\"\n",
    "\n",
    "def get_weather(api_key, city):\n",
    "    url = f\"http://api.openweathermap.org/data/2.5/weather?q={city}&appid={api_key}\"\n",
    "\n",
    "    response = requests.get(url).json()\n",
    "    print(response)\n",
    "\n",
    "#    temp = response['main']['temp']\n",
    " #   temp = math.floor((temp * 1.8) - 459.67)  # Convert to °F\n",
    "#\n",
    "  #  feels_like = response['main']['feels_like']\n",
    "   # feels_like = math.floor((feels_like * 1.8) - 459.67)  # Convert to °F\n",
    "\n",
    "    #humidity = response['main']['humidity']\n",
    "    \n",
    "    #return {\n",
    "     #   'temp': temp,\n",
    "      #  'feels_like': feels_like,\n",
    "       # 'humidity': humidity\n",
    "    "
   ]
  },
  {
   "cell_type": "code",
   "execution_count": null,
   "id": "81eac222",
   "metadata": {},
   "outputs": [],
   "source": []
  }
 ],
 "metadata": {
  "kernelspec": {
   "display_name": "Python 3 (ipykernel)",
   "language": "python",
   "name": "python3"
  },
  "language_info": {
   "codemirror_mode": {
    "name": "ipython",
    "version": 3
   },
   "file_extension": ".py",
   "mimetype": "text/x-python",
   "name": "python",
   "nbconvert_exporter": "python",
   "pygments_lexer": "ipython3",
   "version": "3.9.7"
  }
 },
 "nbformat": 4,
 "nbformat_minor": 5
}
